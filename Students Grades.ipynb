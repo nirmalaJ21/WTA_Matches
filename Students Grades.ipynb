{
 "cells": [
  {
   "cell_type": "markdown",
   "id": "5272096b",
   "metadata": {},
   "source": [
    "# Student Grades"
   ]
  },
  {
   "cell_type": "code",
   "execution_count": 1,
   "id": "21342e9e",
   "metadata": {},
   "outputs": [],
   "source": [
    "import numpy as np\n",
    "from scipy.stats import mode"
   ]
  },
  {
   "cell_type": "code",
   "execution_count": 2,
   "id": "dcd8e7f3",
   "metadata": {},
   "outputs": [],
   "source": [
    "math_grades = np.array([11, 12, 11, 7, 9.5, 15, 18])\n",
    "science_grades = np.array([9, 11, 18, 15.5, 12, 18.5, 15.5])\n",
    "reading_grades = np.array([16, 8.5, 11.5, 11, 10.5, 7, 11])\n",
    "history_grades = np.array([13.5, 10, 9, 14, 14, 12, 7.5])\n",
    "name_students = np.array(['Name','Adam','Anna','James','Corey','Alisha' ,'Jodie' 'John'])\n",
    "math_grades1= np.array([24, 5, 15, 60, 54, 82, 99, 80, 70, 98, 93, 60, 33, 22, 65, 61, 51, 58, 83, 86, 42, 67, 60])"
   ]
  },
  {
   "cell_type": "markdown",
   "id": "a15b93fe",
   "metadata": {},
   "source": [
    "# 1.Calculate the mean for each individual subject."
   ]
  },
  {
   "cell_type": "code",
   "execution_count": 3,
   "id": "6130bfd9",
   "metadata": {},
   "outputs": [],
   "source": [
    "def cal_mean():\n",
    "    math_mean = np.mean(math_grades)\n",
    "    science_mean = np.mean(science_grades)\n",
    "    reading_mean = np.mean(reading_grades)\n",
    "    history_mean = np.mean(history_grades)\n",
    "    print(f\"Mean for Math:{math_mean:.1f}\")\n",
    "    print(f\"Mean for Science:{science_mean:.1f}\")\n",
    "    print(f\"Mean for Reading:{reading_mean:.1f}\")\n",
    "    print(f\"Mean for History:{history_mean:.1f}\")"
   ]
  },
  {
   "cell_type": "markdown",
   "id": "221e4f6e",
   "metadata": {},
   "source": [
    "# Print function"
   ]
  },
  {
   "cell_type": "code",
   "execution_count": 4,
   "id": "fc25f087",
   "metadata": {},
   "outputs": [
    {
     "name": "stdout",
     "output_type": "stream",
     "text": [
      "Mean for Math:11.9\n",
      "Mean for Science:14.2\n",
      "Mean for Reading:10.8\n",
      "Mean for History:11.4\n"
     ]
    }
   ],
   "source": [
    "obj_cal_mean  = cal_mean()"
   ]
  },
  {
   "cell_type": "markdown",
   "id": "a20bfc67",
   "metadata": {},
   "source": [
    "# 2.Find the median grade in Math for all students."
   ]
  },
  {
   "cell_type": "code",
   "execution_count": 5,
   "id": "43c4fe31",
   "metadata": {},
   "outputs": [
    {
     "ename": "SyntaxError",
     "evalue": "f-string: invalid syntax (4232681080.py, line 7)",
     "output_type": "error",
     "traceback": [
      "\u001b[0;36m  File \u001b[0;32m\"/var/folders/62/7z5w_z35571_z71v3718p8lh0000gn/T/ipykernel_28774/4232681080.py\"\u001b[0;36m, line \u001b[0;32m7\u001b[0m\n\u001b[0;31m    print(f\"Median for Science:{science_median.:.1f}\")\u001b[0m\n\u001b[0m                ^\u001b[0m\n\u001b[0;31mSyntaxError\u001b[0m\u001b[0;31m:\u001b[0m f-string: invalid syntax\n"
     ]
    }
   ],
   "source": [
    "def cal_median():\n",
    "    math_median = np.mean(math_grades)\n",
    "    science_median = np.mean(science_grades)\n",
    "    reading_median = np.mean(reading_grades)\n",
    "    history_median = np.mean(history_grades)\n",
    "    print(f\"Median for Math: {math_median:.1f}\")\n",
    "    print(f\"Median for Science:{science_median:.1f}\")\n",
    "    print(f\"Median for Reading:{reading_median: .1f}\")\n",
    "    print(f\"Median for History: {history_median: .1f}\")"
   ]
  },
  {
   "cell_type": "markdown",
   "id": "b90296ed",
   "metadata": {},
   "source": [
    "# Print Function cal_medain()"
   ]
  },
  {
   "cell_type": "code",
   "execution_count": null,
   "id": "ab6f532f",
   "metadata": {},
   "outputs": [],
   "source": [
    "obj_cal_median = cal_median()"
   ]
  },
  {
   "cell_type": "markdown",
   "id": "5367a3a8",
   "metadata": {},
   "source": [
    "# 3.Calculate the mode for History"
   ]
  },
  {
   "cell_type": "code",
   "execution_count": null,
   "id": "aa3a7567",
   "metadata": {},
   "outputs": [],
   "source": [
    "def cal_mode():\n",
    "    from scipy.stats import mode\n",
    "\n",
    "    history_grades = np.array([13.5, 10, 9, 14, 14, 12, 7.5])\n",
    "    history_mode = mode(history_grades, axis=None, keepdims=True)\n",
    "    print(\"Mode of history_grades:\", history_mode.mode)\n"
   ]
  },
  {
   "cell_type": "markdown",
   "id": "67551634",
   "metadata": {},
   "source": [
    "# Print Function cal_mode()"
   ]
  },
  {
   "cell_type": "code",
   "execution_count": null,
   "id": "ab497c1b",
   "metadata": {},
   "outputs": [],
   "source": [
    "obj_cal_mode = cal_mode()"
   ]
  },
  {
   "cell_type": "markdown",
   "id": "2fa091db",
   "metadata": {},
   "source": [
    "# Question 2:\n",
    "Given the following grades from Question 1, calculate the correlation between the different subjects. What two subjects have the strongest correlation?\n"
   ]
  },
  {
   "cell_type": "code",
   "execution_count": null,
   "id": "fb7779be",
   "metadata": {},
   "outputs": [],
   "source": [
    "def corrlation():\n",
    "    grades = np.array([[11, 12, 11, 7, 9.5, 15, 18],[9, 11, 18, 15.5, 12, 18.5, 15.5],[16, 8.5, 11.5, 11, 10.5, 7, 11],[13.5, 10, 9, 14, 14, 12, 7.5]])\n",
    "    corr_among_subjects = np.corrcoef(grades)\n",
    "    print(corr_among_subjects )"
   ]
  },
  {
   "cell_type": "code",
   "execution_count": null,
   "id": "1cd30c6e",
   "metadata": {},
   "outputs": [],
   "source": [
    "obj_corrlation = corrlation()"
   ]
  },
  {
   "cell_type": "markdown",
   "id": "ede419f5",
   "metadata": {},
   "source": [
    "# 3.Write a Python function named desc_stats() that takes a list of numbers and prints the following statistical calculations:"
   ]
  },
  {
   "cell_type": "code",
   "execution_count": 3,
   "id": "de3177cb",
   "metadata": {},
   "outputs": [],
   "source": [
    "def desc_stats(math_grad):\n",
    "    from scipy.stats import mode\n",
    "    Mean_math_grad = np.mean(math_grad)\n",
    "    Median_math_grad = np.median(math_grad)\n",
    "    Mode_math_grad = mode(math_grad,axis=None, keepdims=True)\n",
    "    Minimum =  np.min(math_grad)\n",
    "    Maximum = np.max(math_grad)\n",
    "    rang = np.max(math_grades1) - np.min(math_grades1)\n",
    "    variance = np.var(math_grades1)\n",
    "    std_dev = np.std(math_grades1)\n",
    "    print(f\"Mean of math grades:{Mean_math_grad: .1f}\")\n",
    "    print(f\"Median of math grades: {Mean_math_grad: .1f}\")\n",
    "    print(f\"Mode of math grades: {Mean_math_grad:  .1f}\" )\n",
    "    print(f\"Minimum of math grades: {Mean_math_grad: .1f}\" )\n",
    "    print(f\"Maximum of math grades: {Mean_math_grad: .1f}\" )\n",
    "    print(f\"Range: {rang: .1f}\")\n",
    "    print(f\"Variance: {variance: .1f}\")\n",
    "    print(f\"Standard deviation: {std_dev:.1f}\")\n"
   ]
  },
  {
   "cell_type": "code",
   "execution_count": null,
   "id": "e80255e0",
   "metadata": {},
   "outputs": [],
   "source": [
    "obj_dec = desc_stats(math_grades1)"
   ]
  },
  {
   "cell_type": "code",
   "execution_count": null,
   "id": "e85ccf21",
   "metadata": {},
   "outputs": [],
   "source": []
  },
  {
   "cell_type": "code",
   "execution_count": null,
   "id": "238569d6",
   "metadata": {},
   "outputs": [],
   "source": []
  }
 ],
 "metadata": {
  "kernelspec": {
   "display_name": "Python 3 (ipykernel)",
   "language": "python",
   "name": "python3"
  },
  "language_info": {
   "codemirror_mode": {
    "name": "ipython",
    "version": 3
   },
   "file_extension": ".py",
   "mimetype": "text/x-python",
   "name": "python",
   "nbconvert_exporter": "python",
   "pygments_lexer": "ipython3",
   "version": "3.9.13"
  }
 },
 "nbformat": 4,
 "nbformat_minor": 5
}
